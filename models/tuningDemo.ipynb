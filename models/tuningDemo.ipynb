{
 "cells": [
  {
   "cell_type": "code",
   "execution_count": 4,
   "id": "2de19d65",
   "metadata": {},
   "outputs": [],
   "source": [
    "from models import (\n",
    "    Models,\n",
    ")\n",
    "models= Models() "
   ]
  },
  {
   "cell_type": "code",
   "execution_count": 3,
   "id": "91d3a39d",
   "metadata": {
    "scrolled": true
   },
   "outputs": [
    {
     "name": "stdout",
     "output_type": "stream",
     "text": [
      "Trial 15 Complete [00h 08m 36s]\n",
      "val_accuracy: 0.728192150592804\n",
      "\n",
      "Best val_accuracy So Far: 0.771175742149353\n",
      "Total elapsed time: 02h 56m 45s\n",
      "WARNING:tensorflow:Using a while_loop for converting RngReadAndSkip cause there is no registered converter for this op.\n",
      "WARNING:tensorflow:Using a while_loop for converting Bitcast cause there is no registered converter for this op.\n",
      "WARNING:tensorflow:Using a while_loop for converting Bitcast cause there is no registered converter for this op.\n",
      "WARNING:tensorflow:Using a while_loop for converting StatelessRandomUniformV2 cause there is no registered converter for this op.\n",
      "WARNING:tensorflow:Using a while_loop for converting RngReadAndSkip cause there is no registered converter for this op.\n",
      "WARNING:tensorflow:Using a while_loop for converting Bitcast cause there is no registered converter for this op.\n",
      "WARNING:tensorflow:Using a while_loop for converting Bitcast cause there is no registered converter for this op.\n",
      "WARNING:tensorflow:Using a while_loop for converting StatelessRandomUniformV2 cause there is no registered converter for this op.\n",
      "WARNING:tensorflow:Using a while_loop for converting ImageProjectiveTransformV3 cause there is no registered converter for this op.\n",
      "Model: \"VGG19\"\n",
      "_________________________________________________________________\n",
      " Layer (type)                Output Shape              Param #   \n",
      "=================================================================\n",
      " random_brightness (RandomBr  (None, 224, 224, 3)      0         \n",
      " ightness)                                                       \n",
      "                                                                 \n",
      " random_flip (RandomFlip)    (None, 224, 224, 3)       0         \n",
      "                                                                 \n",
      " random_rotation (RandomRota  (None, 224, 224, 3)      0         \n",
      " tion)                                                           \n",
      "                                                                 \n",
      " lambda (Lambda)             (None, 224, 224, 3)       0         \n",
      "                                                                 \n",
      " vgg19 (Functional)          (None, 512)               20024384  \n",
      "                                                                 \n",
      " dropout (Dropout)           (None, 512)               0         \n",
      "                                                                 \n",
      " dense (Dense)               (None, 384)               196992    \n",
      "                                                                 \n",
      " dropout_1 (Dropout)         (None, 384)               0         \n",
      "                                                                 \n",
      " dense_1 (Dense)             (None, 64)                24640     \n",
      "                                                                 \n",
      " dropout_2 (Dropout)         (None, 64)                0         \n",
      "                                                                 \n",
      " dense_2 (Dense)             (None, 1)                 65        \n",
      "                                                                 \n",
      "=================================================================\n",
      "Total params: 20,246,081\n",
      "Trainable params: 221,697\n",
      "Non-trainable params: 20,024,384\n",
      "_________________________________________________________________\n",
      "Compiling...\n",
      "Finished compiling.\n",
      "WARNING:tensorflow:Using a while_loop for converting RngReadAndSkip cause there is no registered converter for this op.\n",
      "WARNING:tensorflow:Using a while_loop for converting Bitcast cause there is no registered converter for this op.\n",
      "WARNING:tensorflow:Using a while_loop for converting Bitcast cause there is no registered converter for this op.\n",
      "WARNING:tensorflow:Using a while_loop for converting StatelessRandomUniformV2 cause there is no registered converter for this op.\n",
      "WARNING:tensorflow:Using a while_loop for converting ImageProjectiveTransformV3 cause there is no registered converter for this op.\n",
      "WARNING:tensorflow:Using a while_loop for converting RngReadAndSkip cause there is no registered converter for this op.\n",
      "WARNING:tensorflow:Using a while_loop for converting Bitcast cause there is no registered converter for this op.\n",
      "WARNING:tensorflow:Using a while_loop for converting Bitcast cause there is no registered converter for this op.\n",
      "WARNING:tensorflow:Using a while_loop for converting StatelessRandomUniformV2 cause there is no registered converter for this op.\n",
      "WARNING:tensorflow:Using a while_loop for converting RngReadAndSkip cause there is no registered converter for this op.\n",
      "WARNING:tensorflow:Using a while_loop for converting Bitcast cause there is no registered converter for this op.\n",
      "WARNING:tensorflow:Using a while_loop for converting Bitcast cause there is no registered converter for this op.\n",
      "WARNING:tensorflow:Using a while_loop for converting StatelessRandomUniformV2 cause there is no registered converter for this op.\n",
      "WARNING:tensorflow:Using a while_loop for converting RngReadAndSkip cause there is no registered converter for this op.\n",
      "WARNING:tensorflow:Using a while_loop for converting Bitcast cause there is no registered converter for this op.\n",
      "WARNING:tensorflow:Using a while_loop for converting Bitcast cause there is no registered converter for this op.\n",
      "WARNING:tensorflow:Using a while_loop for converting StatelessRandomUniformV2 cause there is no registered converter for this op.\n",
      "WARNING:tensorflow:Using a while_loop for converting ImageProjectiveTransformV3 cause there is no registered converter for this op.\n",
      "WARNING:tensorflow:Using a while_loop for converting RngReadAndSkip cause there is no registered converter for this op.\n",
      "WARNING:tensorflow:Using a while_loop for converting Bitcast cause there is no registered converter for this op.\n",
      "WARNING:tensorflow:Using a while_loop for converting Bitcast cause there is no registered converter for this op.\n",
      "WARNING:tensorflow:Using a while_loop for converting StatelessRandomUniformV2 cause there is no registered converter for this op.\n",
      "WARNING:tensorflow:Using a while_loop for converting RngReadAndSkip cause there is no registered converter for this op.\n",
      "WARNING:tensorflow:Using a while_loop for converting Bitcast cause there is no registered converter for this op.\n",
      "WARNING:tensorflow:Using a while_loop for converting Bitcast cause there is no registered converter for this op.\n",
      "WARNING:tensorflow:Using a while_loop for converting StatelessRandomUniformV2 cause there is no registered converter for this op.\n",
      "WARNING:tensorflow:Using a while_loop for converting ImageProjectiveTransformV3 cause there is no registered converter for this op.\n"
     ]
    },
    {
     "name": "stderr",
     "output_type": "stream",
     "text": [
      "WARNING:absl:Found untraced functions such as _jit_compiled_convolution_op, _jit_compiled_convolution_op, _jit_compiled_convolution_op, _jit_compiled_convolution_op, _jit_compiled_convolution_op while saving (showing 5 of 16). These functions will not be directly callable after loading.\n"
     ]
    },
    {
     "name": "stdout",
     "output_type": "stream",
     "text": [
      "INFO:tensorflow:Assets written to: AlexNet_BreaKHis\\assets\n"
     ]
    },
    {
     "name": "stderr",
     "output_type": "stream",
     "text": [
      "INFO:tensorflow:Assets written to: AlexNet_BreaKHis\\assets\n"
     ]
    },
    {
     "name": "stdout",
     "output_type": "stream",
     "text": [
      "WARNING:tensorflow:Detecting that an object or model or tf.train.Checkpoint is being deleted with unrestored values. See the following logs for the specific values in question. To silence these warnings, use `status.expect_partial()`. See https://www.tensorflow.org/api_docs/python/tf/train/Checkpoint#restorefor details about the status object returned by the restore function.\n"
     ]
    },
    {
     "name": "stderr",
     "output_type": "stream",
     "text": [
      "WARNING:tensorflow:Detecting that an object or model or tf.train.Checkpoint is being deleted with unrestored values. See the following logs for the specific values in question. To silence these warnings, use `status.expect_partial()`. See https://www.tensorflow.org/api_docs/python/tf/train/Checkpoint#restorefor details about the status object returned by the restore function.\n"
     ]
    },
    {
     "name": "stdout",
     "output_type": "stream",
     "text": [
      "WARNING:tensorflow:Value in checkpoint could not be found in the restored object: (root).optimizer.iter\n"
     ]
    },
    {
     "name": "stderr",
     "output_type": "stream",
     "text": [
      "WARNING:tensorflow:Value in checkpoint could not be found in the restored object: (root).optimizer.iter\n"
     ]
    },
    {
     "name": "stdout",
     "output_type": "stream",
     "text": [
      "WARNING:tensorflow:Value in checkpoint could not be found in the restored object: (root).optimizer.beta_1\n"
     ]
    },
    {
     "name": "stderr",
     "output_type": "stream",
     "text": [
      "WARNING:tensorflow:Value in checkpoint could not be found in the restored object: (root).optimizer.beta_1\n"
     ]
    },
    {
     "name": "stdout",
     "output_type": "stream",
     "text": [
      "WARNING:tensorflow:Value in checkpoint could not be found in the restored object: (root).optimizer.beta_2\n"
     ]
    },
    {
     "name": "stderr",
     "output_type": "stream",
     "text": [
      "WARNING:tensorflow:Value in checkpoint could not be found in the restored object: (root).optimizer.beta_2\n"
     ]
    },
    {
     "name": "stdout",
     "output_type": "stream",
     "text": [
      "WARNING:tensorflow:Value in checkpoint could not be found in the restored object: (root).optimizer.decay\n"
     ]
    },
    {
     "name": "stderr",
     "output_type": "stream",
     "text": [
      "WARNING:tensorflow:Value in checkpoint could not be found in the restored object: (root).optimizer.decay\n"
     ]
    },
    {
     "name": "stdout",
     "output_type": "stream",
     "text": [
      "WARNING:tensorflow:Value in checkpoint could not be found in the restored object: (root).optimizer.learning_rate\n"
     ]
    },
    {
     "name": "stderr",
     "output_type": "stream",
     "text": [
      "WARNING:tensorflow:Value in checkpoint could not be found in the restored object: (root).optimizer.learning_rate\n"
     ]
    }
   ],
   "source": [
    "# calling this method will save the best model found to the directory initialized in model init constructor. \n",
    "     # prints to the console the arch of the best network\n",
    "    # also stores json data about the training of each and how the algorithm is picking next params to try in the self.VGGNet_breakhis_path_optimized+\"_Bayesian_trials\" directory\n",
    "# pass in the num networks to try\n",
    "response_set = models.train_VGG19_with_bayesian_tuner(15)"
   ]
  },
  {
   "cell_type": "code",
   "execution_count": 16,
   "id": "a51fb61c",
   "metadata": {},
   "outputs": [
    {
     "name": "stdout",
     "output_type": "stream",
     "text": [
      "\n",
      "Bayesian \n",
      "384 \n",
      "0.0 \n",
      "0.001.\n",
      "\n"
     ]
    }
   ],
   "source": [
    "# get the best HP's \n",
    "\n",
    "best_hps=response_set.get_best_hyperparameters(num_trials=1)[0]\n",
    "\n",
    "print(f\"\"\"\n",
    "Bayesian \n",
    "{best_hps.get('hidden_size')} \n",
    "{best_hps.get('dropout')} \n",
    "{best_hps.get('learning_rate')}.\n",
    "\"\"\")"
   ]
  },
  {
   "cell_type": "code",
   "execution_count": 36,
   "id": "d4288a75",
   "metadata": {
    "scrolled": true
   },
   "outputs": [
    {
     "name": "stdout",
     "output_type": "stream",
     "text": [
      "Results summary\n",
      "Results in .\\untitled_project\n",
      "Showing 15 best trials\n",
      "Objective(name=\"val_accuracy\", direction=\"max\")\n",
      "\n",
      "Trial 12 summary\n",
      "Hyperparameters:\n",
      "dropout: 0.0\n",
      "hidden_size: 384\n",
      "learning_rate: 0.001\n",
      "Score: 0.771175742149353\n",
      "\n",
      "Trial 09 summary\n",
      "Hyperparameters:\n",
      "dropout: 0.1\n",
      "hidden_size: 584\n",
      "learning_rate: 0.001\n",
      "Score: 0.763590395450592\n",
      "\n",
      "Trial 02 summary\n",
      "Hyperparameters:\n",
      "dropout: 0.1\n",
      "hidden_size: 584\n",
      "learning_rate: 0.0010633734778788457\n",
      "Score: 0.7597977519035339\n",
      "\n",
      "Trial 10 summary\n",
      "Hyperparameters:\n",
      "dropout: 0.0\n",
      "hidden_size: 584\n",
      "learning_rate: 0.001\n",
      "Score: 0.7572692632675171\n",
      "\n",
      "Trial 13 summary\n",
      "Hyperparameters:\n",
      "dropout: 0.4\n",
      "hidden_size: 384\n",
      "learning_rate: 0.001\n",
      "Score: 0.756005048751831\n",
      "\n",
      "Trial 14 summary\n",
      "Hyperparameters:\n",
      "dropout: 0.4\n",
      "hidden_size: 784\n",
      "learning_rate: 0.001\n",
      "Score: 0.728192150592804\n",
      "\n",
      "Trial 08 summary\n",
      "Hyperparameters:\n",
      "dropout: 0.1\n",
      "hidden_size: 384\n",
      "learning_rate: 0.001341945202183925\n",
      "Score: 0.720606803894043\n",
      "\n",
      "Trial 00 summary\n",
      "Hyperparameters:\n",
      "dropout: 0.0\n",
      "hidden_size: 984\n",
      "learning_rate: 0.0027849789667279464\n",
      "Score: 0.6801517009735107\n",
      "\n",
      "Trial 01 summary\n",
      "Hyperparameters:\n",
      "dropout: 0.2\n",
      "hidden_size: 1184\n",
      "learning_rate: 0.00189338631670764\n",
      "Score: 0.6801517009735107\n",
      "\n",
      "Trial 03 summary\n",
      "Hyperparameters:\n",
      "dropout: 0.30000000000000004\n",
      "hidden_size: 784\n",
      "learning_rate: 0.0032270402349696688\n",
      "Score: 0.6801517009735107\n",
      "\n",
      "Trial 04 summary\n",
      "Hyperparameters:\n",
      "dropout: 0.1\n",
      "hidden_size: 584\n",
      "learning_rate: 0.0019751765831755876\n",
      "Score: 0.6801517009735107\n",
      "\n",
      "Trial 05 summary\n",
      "Hyperparameters:\n",
      "dropout: 0.0\n",
      "hidden_size: 584\n",
      "learning_rate: 0.009954938254236503\n",
      "Score: 0.6801517009735107\n",
      "\n",
      "Trial 06 summary\n",
      "Hyperparameters:\n",
      "dropout: 0.1\n",
      "hidden_size: 1384\n",
      "learning_rate: 0.007550383175689555\n",
      "Score: 0.6801517009735107\n",
      "\n",
      "Trial 07 summary\n",
      "Hyperparameters:\n",
      "dropout: 0.0\n",
      "hidden_size: 1384\n",
      "learning_rate: 0.006196471083048647\n",
      "Score: 0.6801517009735107\n",
      "\n",
      "Trial 11 summary\n",
      "Hyperparameters:\n",
      "dropout: 0.0\n",
      "hidden_size: 984\n",
      "learning_rate: 0.001\n",
      "Score: 0.6801517009735107\n"
     ]
    }
   ],
   "source": [
    "# view the results from other networks with summary\n",
    "# could create method to generate a better table of results than this by parsing through the JSON to include in our final paper report\n",
    "response_set.results_summary(15)"
   ]
  }
 ],
 "metadata": {
  "kernelspec": {
   "display_name": "Python 3 (ipykernel)",
   "language": "python",
   "name": "python3"
  },
  "language_info": {
   "codemirror_mode": {
    "name": "ipython",
    "version": 3
   },
   "file_extension": ".py",
   "mimetype": "text/x-python",
   "name": "python",
   "nbconvert_exporter": "python",
   "pygments_lexer": "ipython3",
   "version": "3.10.13"
  }
 },
 "nbformat": 4,
 "nbformat_minor": 5
}

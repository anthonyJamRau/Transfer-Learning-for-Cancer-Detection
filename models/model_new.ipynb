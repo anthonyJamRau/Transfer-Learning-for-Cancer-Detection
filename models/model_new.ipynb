{
 "cells": [
  {
   "cell_type": "code",
   "execution_count": null,
   "metadata": {},
   "outputs": [],
   "source": [
    "from tensorflow.keras.preprocessing.image import ImageDataGenerator\n",
    "from tensorflow.keras import layers, models, losses\n",
    "import tensorflow as tf\n",
    "import numpy as np\n",
    "from sklearn.metrics import confusion_matrix\n",
    "from sklearn import metrics\n",
    "import matplotlib.pyplot as plt\n",
    "import seaborn as sns\n",
    "from tensorflow.keras.applications import VGG19\n",
    "from tensorflow.keras.callbacks import EarlyStopping, ReduceLROnPlateau\n",
    "import datetime, re, pickle"
   ]
  },
  {
   "cell_type": "code",
   "execution_count": null,
   "metadata": {},
   "outputs": [],
   "source": [
    "data_dir_train = '/home/meredithc/Transfer-Learning-for-Cancer-Detection/Normalized-Train/'\n",
    "data_dir_validation = '/home/meredithc/Transfer-Learning-for-Cancer-Detection/Normalized-Validation/'\n",
    "data_dir_test = '/home/meredithc/Transfer-Learning-for-Cancer-Detection/Normalized-Test/'\n",
    "BATCH_SIZE = 48\n",
    "IMG_SIZE = 224\n",
    "BASE_LEARNING_RATE = 0.001\n",
    "SEED = 51432\n",
    "tf.keras.utils.set_random_seed(SEED)"
   ]
  },
  {
   "cell_type": "code",
   "execution_count": null,
   "metadata": {},
   "outputs": [],
   "source": [
    "datagen = ImageDataGenerator(rescale=1.0/255)"
   ]
  },
  {
   "cell_type": "code",
   "execution_count": null,
   "metadata": {},
   "outputs": [],
   "source": [
    "train_generator = datagen.flow_from_directory(\n",
    "    data_dir_train,\n",
    "    shuffle=True,\n",
    "    target_size=(IMG_SIZE,IMG_SIZE),\n",
    "    batch_size=BATCH_SIZE,\n",
    "    class_mode='binary')\n",
    "\n",
    "validation_generator = datagen.flow_from_directory(\n",
    "    data_dir_validation,\n",
    "    shuffle=True,\n",
    "    target_size=(IMG_SIZE,IMG_SIZE),\n",
    "    batch_size=BATCH_SIZE,\n",
    "    class_mode='binary')\n",
    "\n",
    "test_generator = datagen.flow_from_directory(\n",
    "    data_dir_test,\n",
    "    shuffle=False,\n",
    "    target_size=(IMG_SIZE,IMG_SIZE),\n",
    "    batch_size=BATCH_SIZE,\n",
    "    class_mode='binary')"
   ]
  },
  {
   "cell_type": "markdown",
   "metadata": {},
   "source": [
    "### AlexNet"
   ]
  },
  {
   "cell_type": "code",
   "execution_count": null,
   "metadata": {},
   "outputs": [],
   "source": [
    "model = models.Sequential()\n",
    "model.add(\n",
    "    layers.experimental.preprocessing.Resizing(\n",
    "        224,\n",
    "        224,\n",
    "        interpolation=\"bilinear\",\n",
    "        input_shape=(\n",
    "            IMG_SIZE,\n",
    "            IMG_SIZE,\n",
    "            3,\n",
    "        ),\n",
    "    )\n",
    ")\n",
    "model.add(layers.Conv2D(96, 11, strides=4, padding=\"same\"))\n",
    "model.add(layers.Lambda(tf.nn.local_response_normalization))\n",
    "model.add(layers.Conv2D(256, 5, strides=3, padding=\"same\"))\n",
    "model.add(layers.MaxPooling2D(3, strides=2))\n",
    "model.add(layers.Lambda(tf.nn.local_response_normalization))\n",
    "model.add(layers.Conv2D(384, 3, strides=4, padding=\"same\"))\n",
    "model.add(layers.MaxPooling2D(2, strides=2))\n",
    "model.add(layers.Flatten())\n",
    "model.add(layers.Dense(4096, activation=\"relu\"))\n",
    "model.add(layers.Dropout(0.5))\n",
    "model.add(layers.Dense(4096, activation=\"relu\"))\n",
    "model.add(layers.Dropout(0.5))\n",
    "model.add(layers.Dense(1, activation=\"sigmoid\"))\n",
    "model._name = \"AlexNet-48BSize-BalancedData-001Learn-BinaryFocal\"\n",
    "model.compile(\n",
    "            optimizer=tf.keras.optimizers.Adam(BASE_LEARNING_RATE),\n",
    "            loss=tf.keras.losses.BinaryFocalCrossentropy(),\n",
    "            metrics=[tf.keras.metrics.AUC(name=\"roc_auc\"), \"binary_accuracy\"],\n",
    "        )"
   ]
  },
  {
   "cell_type": "markdown",
   "metadata": {},
   "source": [
    "### VGGNet"
   ]
  },
  {
   "cell_type": "code",
   "execution_count": null,
   "metadata": {},
   "outputs": [],
   "source": [
    "base = VGG19(\n",
    "            include_top=False,\n",
    "            input_shape=(IMG_SIZE, IMG_SIZE, 3),\n",
    "            weights=\"imagenet\",\n",
    "            pooling=\"avg\",\n",
    "        )\n",
    "#base.trainable = False\n",
    "model = tf.keras.Sequential(\n",
    "    [\n",
    "        layers.Input(shape=(IMG_SIZE, IMG_SIZE, 3)),\n",
    "        # Data augmentation\n",
    "        #layers.RandomBrightness(0.2, seed=SEED),\n",
    "        #layers.RandomFlip(seed=SEED),\n",
    "        #layers.RandomRotation(0.2, seed=SEED),\n",
    "        # VGG19\n",
    "        layers.Lambda(tf.keras.applications.vgg19.preprocess_input),\n",
    "        base,\n",
    "        layers.Dropout(0.4),\n",
    "        # Fully connected layers\n",
    "        layers.Dense(384, activation=\"relu\"),\n",
    "        layers.Dropout(0.3),\n",
    "        layers.Dense(64, activation=\"relu\"),\n",
    "        layers.Dropout(0.2),\n",
    "        layers.Dense(1, activation=\"sigmoid\"),\n",
    "    ],\n",
    "    name=\"VGG19\",\n",
    ")\n",
    "model.compile(\n",
    "    optimizer=tf.keras.optimizers.Adam(BASE_LEARNING_RATE),\n",
    "    loss=tf.keras.losses.MeanAbsoluteError(),\n",
    "    metrics=[tf.keras.metrics.AUC(name=\"roc_auc\"), \"binary_accuracy\"],\n",
    ")"
   ]
  },
  {
   "cell_type": "markdown",
   "metadata": {},
   "source": [
    "### Train model"
   ]
  },
  {
   "cell_type": "code",
   "execution_count": null,
   "metadata": {},
   "outputs": [],
   "source": [
    "early_stopping = EarlyStopping(\n",
    "    min_delta=1e-4, patience=5, verbose=1, restore_best_weights=True\n",
    ")\n",
    "reduce_lr = ReduceLROnPlateau(factor=0.5, patience=4, verbose=1)"
   ]
  },
  {
   "cell_type": "code",
   "execution_count": null,
   "metadata": {},
   "outputs": [],
   "source": [
    "model.summary()"
   ]
  },
  {
   "cell_type": "code",
   "execution_count": null,
   "metadata": {},
   "outputs": [],
   "source": [
    "EPOCHS = 25\n",
    "history = model.fit(train_generator, epochs=EPOCHS, validation_data=validation_generator, callbacks=[early_stopping, reduce_lr])"
   ]
  },
  {
   "cell_type": "code",
   "execution_count": null,
   "metadata": {},
   "outputs": [],
   "source": [
    "predictions = model.predict(test_generator)\n",
    "\n",
    "# Convert predictions to class labels\n",
    "predicted_labels = (predictions > 0.5).astype(int)\n",
    "\n",
    "# Get the true labels from the test generator\n",
    "true_labels = test_generator.classes"
   ]
  },
  {
   "cell_type": "code",
   "execution_count": null,
   "metadata": {},
   "outputs": [],
   "source": [
    "print(predicted_labels)"
   ]
  },
  {
   "cell_type": "code",
   "execution_count": null,
   "metadata": {},
   "outputs": [],
   "source": [
    "fig, axes = plt.subplots(ncols=3, figsize=(15, 4), dpi=160)\n",
    "curves = [metrics.RocCurveDisplay, metrics.PrecisionRecallDisplay]\n",
    "for ax, curve in zip(axes[:2], curves):\n",
    "    curve.from_predictions(true_labels, predicted_labels, ax=ax, name=model.name)\n",
    "metrics.ConfusionMatrixDisplay.from_predictions(\n",
    "    true_labels,\n",
    "    predicted_labels,\n",
    "    ax=axes[2],\n",
    "    colorbar=False,\n",
    ")\n",
    "titles = [\"ROC-AUC Curve\", \"Precision-Recall Curve\", \"Confusion Matrix\"]\n",
    "for ax, title in zip(axes.flat, titles):\n",
    "    ax.set_title(title, size=14, pad=10)\n",
    "print(f\"Finished building plots for {model.name}.\")\n"
   ]
  },
  {
   "cell_type": "code",
   "execution_count": null,
   "metadata": {},
   "outputs": [],
   "source": [
    "model_path = f'/home/meredithc/Transfer-Learning-for-Cancer-Detection/Trained-Models/{model.name}.pkl'\n",
    "with open(model_path, 'wb') as model_file:\n",
    "    pickle.dump(model, model_file)\n",
    "fig.savefig(f'/home/meredithc/Transfer-Learning-for-Cancer-Detection/Trained-Models/{model.name}_plots.png')"
   ]
  }
 ],
 "metadata": {
  "kernelspec": {
   "display_name": "Python 3",
   "language": "python",
   "name": "python3"
  },
  "language_info": {
   "codemirror_mode": {
    "name": "ipython",
    "version": 3
   },
   "file_extension": ".py",
   "mimetype": "text/x-python",
   "name": "python",
   "nbconvert_exporter": "python",
   "pygments_lexer": "ipython3",
   "version": "3.10.12"
  }
 },
 "nbformat": 4,
 "nbformat_minor": 2
}
